{
 "cells": [
  {
   "attachments": {
    "image.png": {
     "image/png": "[encoded data removed]"
    }
   },
   "cell_type": "markdown",
   "id": "affb58b3",
   "metadata": {},
   "source": [
    "![image.png](attachment:image.png)"
   ]
  },
  {
   "cell_type": "markdown",
   "id": "ef7de40e",
   "metadata": {},
   "source": [
    "<div style=\"text-align: center;\">\n",
    "    <h2>Integrated CA</h2>\n",
    "    <h2><u>Artificial Intelligence & Data Visualization and Communication</u></h1>\n",
    "    <h3>Lecturers: David McQuaid and Sam Weiss</h3>\n",
    "    <h3>Student Name: Danrlei da Silva Martins</h3>\n",
    "    <h3>Student Number: 2020322</h3>\n",
    "    <h3><a href=\"https://github.com/danrlei-martins-cct/AI_DV_Lv8_ICA\">GitHub Repository</a></h3>\n",
    "</div>"
   ]
  },
  {
   "cell_type": "markdown",
   "id": "ce89094c",
   "metadata": {},
   "source": [
    "***"
   ]
  },
  {
   "cell_type": "markdown",
   "id": "22c1b180",
   "metadata": {},
   "source": [
    "<h1> <u>Artificial Intelligence Tasks</u></h1>"
   ]
  },
  {
   "cell_type": "markdown",
   "id": "0d23e027",
   "metadata": {},
   "source": [
    "<h3> Constraint Satisfaction Problem</h3>\n",
    "\n",
    "Ciara is looking for employees for her new company, which develops and provides AI based logistic software for retailers. Ciara has determined that she needs:\n",
    "- 2 Python Programmers\n",
    "- 2 AI Engineers\n",
    "- 1 Web Designer\n",
    "- 1 Database Admin\n",
    "- 1 Systems Engineer\n",
    "\n",
    "Assume that if a person has two abilities, he or she can take on two roles in the company. So, Ciara narrowed down her selections to the following people:\n",
    "\n",
    "<table>\n",
    "    <tr>\n",
    "        <th>Name</th>\n",
    "        <th>Abilities</th>\n",
    "    </tr>\n",
    "    <tr>\n",
    "        <td>Peter</td>\n",
    "        <td>Python and AI</td>\n",
    "    </tr>\n",
    "    <tr>\n",
    "        <td>Juan</td>\n",
    "        <td>Web and AI</td>\n",
    "    </tr>\n",
    "    <tr>\n",
    "        <td>Jim</td>\n",
    "        <td>AI and Systems</td>\n",
    "    </tr> \n",
    "    <tr>\n",
    "        <td>Jane</td>\n",
    "        <td>Python and Database</td>\n",
    "    </tr>    \n",
    "    <tr>\n",
    "        <td>Mary</td>\n",
    "        <td>Web and AI</td>\n",
    "    </tr>    \n",
    "    <tr>\n",
    "        <td>Bruce</td>\n",
    "        <td>Systems and Python</td>\n",
    "    </tr>    \n",
    "    <tr>\n",
    "        <td>Anita</td>\n",
    "        <td>Photoshop and AI</td>\n",
    "    </tr>    \n",
    "</table>"
   ]
  },
  {
   "cell_type": "markdown",
   "id": "89698ba6",
   "metadata": {},
   "source": [
    "<h3> Scenario I </h3>\n",
    "\n",
    "Suppose Ciara knows Python, and only has funds to hire three more people."
   ]
  },
  {
   "cell_type": "code",
   "execution_count": 1,
   "id": "fd22a08d",
   "metadata": {},
   "outputs": [],
   "source": [
    "# Import library\n",
    "from ortools.sat.python import cp_model"
   ]
  },
  {
   "cell_type": "code",
   "execution_count": 2,
   "id": "50283f28",
   "metadata": {},
   "outputs": [
    {
     "name": "stdout",
     "output_type": "stream",
     "text": [
      "Solution 1:\n",
      "Selected Team: Ciara, Jim, Jane, Mary\n",
      "Number of selected candidates: 4\n",
      "\n",
      "Solution 2:\n",
      "Selected Team: Ciara, Juan, Jim, Jane\n",
      "Number of selected candidates: 4\n",
      "\n"
     ]
    }
   ],
   "source": [
    "# Creating a constraint programming model\n",
    "model = cp_model.CpModel()\n",
    "\n",
    "# Defining variables\n",
    "names = [\"Ciara\", \"Peter\", \"Juan\", \"Jim\", \"Jane\", \"Mary\", \"Bruce\", \"Anita\"]\n",
    "\n",
    "abilities = {\n",
    "  \"Ciara\": [\"Python\"],\n",
    "  \"Peter\": [\"Python\", \"AI\"],\n",
    "  \"Juan\": [\"Web\", \"AI\"],\n",
    "  \"Jim\": [\"AI\", \"Systems\"],\n",
    "  \"Jane\": [\"Python\", \"Database\"],\n",
    "  \"Mary\": [\"Web\", \"AI\"],\n",
    "  \"Bruce\": [\"Systems\", \"Python\"],\n",
    "  \"Anita\": [\"Photoshop\", \"AI\"]\n",
    "}\n",
    "\n",
    "num_python_programmers = 2\n",
    "num_ai_engineers = 2\n",
    "num_web_designer = 1\n",
    "num_database_admin = 1\n",
    "num_systems_engineers = 1\n",
    "hiring_max = 4\n",
    "\n",
    "# Decision variables: 1 if person is selected, 0 otherwise\n",
    "is_selected = {name: model.NewBoolVar(f\"is_selected_{name}\") for name in names}\n",
    "\n",
    "# Constraint: Ciara is selected\n",
    "model.Add(is_selected[\"Ciara\"] == 1)\n",
    "\n",
    "# Constraint: Each role needs to be covered\n",
    "model.Add(sum(is_selected[name] for name in names if \"Python\" in abilities[name]) == num_python_programmers)\n",
    "model.Add(sum(is_selected[name] for name in names if \"AI\" in abilities[name]) == num_ai_engineers)\n",
    "model.Add(sum(is_selected[name] for name in names if \"Web\" in abilities[name]) == num_web_designer)\n",
    "model.Add(sum(is_selected[name] for name in names if \"Database\" in abilities[name]) == num_database_admin)\n",
    "model.Add(sum(is_selected[name] for name in names if \"Systems\" in abilities[name]) == num_systems_engineers)\n",
    "\n",
    "# Constraint: Select a maximum of 4 people\n",
    "model.Add(sum(is_selected.values()) <= hiring_max)\n",
    "\n",
    "# Solving the model\n",
    "solver = cp_model.CpSolver()\n",
    "status = solver.Solve(model)\n",
    "\n",
    "# Displaying the solution or indicating if no solution is found\n",
    "if status == cp_model.OPTIMAL or status == cp_model.FEASIBLE:\n",
    "    solution_count = 0\n",
    "    while True:\n",
    "        selected_team = [name for name in names if solver.Value(is_selected[name]) == 1]\n",
    "        solution_count += 1\n",
    "        print(f\"Solution {solution_count}:\")\n",
    "        print(\"Selected Team:\", ', '.join(selected_team))\n",
    "        print(f\"Number of selected candidates: {len(selected_team)}\\n\")\n",
    "\n",
    "        # Exclude the current solution\n",
    "        model.Add(sum(is_selected[name] for name in selected_team) < len(selected_team))\n",
    "\n",
    "        # Search for the next solution\n",
    "        try:\n",
    "            status = solver.Solve(model)\n",
    "        except cp_model.SolverException as e:\n",
    "            print(f\"Error: {e}\")\n",
    "            break\n",
    "\n",
    "        # Break the loop if no more solutions\n",
    "        if status != cp_model.OPTIMAL and status != cp_model.FEASIBLE:\n",
    "            break\n",
    "else:\n",
    "    print(\"No solution found.\")"
   ]
  },
  {
   "cell_type": "markdown",
   "id": "30a6698e",
   "metadata": {},
   "source": [
    "***"
   ]
  },
  {
   "cell_type": "markdown",
   "id": "43de33e9",
   "metadata": {},
   "source": [
    "<h3> Scenario II </h3>\n",
    "\n",
    "Suppose Ciara and Juan become partners, with the additional funds they can now employ four more people but must employ another AI Engineer."
   ]
  },
  {
   "cell_type": "code",
   "execution_count": 3,
   "id": "8899de72",
   "metadata": {},
   "outputs": [
    {
     "name": "stdout",
     "output_type": "stream",
     "text": [
      "Solution 1:\n",
      "Selected Team: Ciara, Peter, Juan, Jim, Jane\n",
      "Number of selected candidates: 5\n",
      "\n",
      "Solution 2:\n",
      "Selected Team: Ciara, Juan, Jim, Jane, Mary\n",
      "Number of selected candidates: 5\n",
      "\n",
      "Solution 3:\n",
      "Selected Team: Ciara, Juan, Jane, Mary, Bruce, Anita\n",
      "Number of selected candidates: 6\n",
      "\n",
      "Solution 4:\n",
      "Selected Team: Ciara, Juan, Jim, Jane, Anita\n",
      "Number of selected candidates: 5\n",
      "\n",
      "Solution 5:\n",
      "Selected Team: Ciara, Peter, Juan, Jane, Bruce, Anita\n",
      "Number of selected candidates: 6\n",
      "\n",
      "Solution 6:\n",
      "Selected Team: Ciara, Peter, Juan, Jane, Mary, Bruce\n",
      "Number of selected candidates: 6\n",
      "\n"
     ]
    }
   ],
   "source": [
    "# Creating a constraint programming model\n",
    "model = cp_model.CpModel()\n",
    "\n",
    "# Defining variables\n",
    "names = [\"Ciara\", \"Peter\", \"Juan\", \"Jim\", \"Jane\", \"Mary\", \"Bruce\", \"Anita\"]\n",
    "\n",
    "abilities = {\n",
    "  \"Ciara\": [\"Python\"],\n",
    "  \"Peter\": [\"Python\", \"AI\"],\n",
    "  \"Juan\": [\"Web\", \"AI\"],\n",
    "  \"Jim\": [\"AI\", \"Systems\"],\n",
    "  \"Jane\": [\"Python\", \"Database\"],\n",
    "  \"Mary\": [\"Web\", \"AI\"],\n",
    "  \"Bruce\": [\"Systems\", \"Python\"],\n",
    "  \"Anita\": [\"Photoshop\", \"AI\"]\n",
    "}\n",
    "\n",
    "num_python_programmers = 2\n",
    "num_ai_engineers = 3\n",
    "num_web_designer = 1\n",
    "num_database_admin = 1\n",
    "num_systems_engineers = 1\n",
    "hiring_max = 6\n",
    "\n",
    "# Decision variables: 1 if person is selected, 0 otherwise\n",
    "is_selected = {name: model.NewBoolVar(f\"is_selected_{name}\") for name in names}\n",
    "\n",
    "# Constraint: Ciara and Juan are selected\n",
    "model.Add(is_selected[\"Ciara\"] == 1)\n",
    "model.Add(is_selected[\"Juan\"] == 1)\n",
    "\n",
    "# Constraint: Each role needs to be covered\n",
    "model.Add(sum(is_selected[name] for name in names if \"Python\" in abilities[name]) >= num_python_programmers)\n",
    "model.Add(sum(is_selected[name] for name in names if \"AI\" in abilities[name]) >= num_ai_engineers)\n",
    "model.Add(sum(is_selected[name] for name in names if \"Web\" in abilities[name]) >= num_web_designer)\n",
    "model.Add(sum(is_selected[name] for name in names if \"Database\" in abilities[name]) >= num_database_admin)\n",
    "model.Add(sum(is_selected[name] for name in names if \"Systems\" in abilities[name]) >= num_systems_engineers)\n",
    "\n",
    "# Constraint: Select a maximum of 6 people\n",
    "model.Add(sum(is_selected.values()) <= hiring_max)\n",
    "\n",
    "# Solving the model\n",
    "solver = cp_model.CpSolver()\n",
    "status = solver.Solve(model)\n",
    "\n",
    "# Displaying the solution or indicating if no solution is found\n",
    "if status == cp_model.OPTIMAL or status == cp_model.FEASIBLE:\n",
    "    solution_count = 0\n",
    "    while True:\n",
    "        selected_team = [name for name in names if solver.Value(is_selected[name]) == 1]\n",
    "        solution_count += 1\n",
    "        print(f\"Solution {solution_count}:\")\n",
    "        print(\"Selected Team:\", ', '.join(selected_team))\n",
    "        print(f\"Number of selected candidates: {len(selected_team)}\\n\")\n",
    "\n",
    "        # Exclude the current solution\n",
    "        model.Add(sum(is_selected[name] for name in selected_team) < len(selected_team))\n",
    "\n",
    "        # Search for the next solution\n",
    "        try:\n",
    "            status = solver.Solve(model)\n",
    "        except cp_model.SolverException as e:\n",
    "            print(f\"Error: {e}\")\n",
    "            break\n",
    "\n",
    "        # Break the loop if no more solutions\n",
    "        if status != cp_model.OPTIMAL and status != cp_model.FEASIBLE:\n",
    "            break\n",
    "else:\n",
    "    print(\"No solution found.\")"
   ]
  },
  {
   "cell_type": "markdown",
   "id": "1d96bd2b",
   "metadata": {},
   "source": [
    "***"
   ]
  },
  {
   "cell_type": "markdown",
   "id": "eab855e0",
   "metadata": {},
   "source": [
    "<h2> Solving CSP with different algorithm</h2>\n",
    "\n",
    "These problems be solved using several other algorithm’s we have studied in the module. Choose one of these algorithms and discuss your answer in detail including a proof of your hypothesis in code."
   ]
  },
  {
   "cell_type": "markdown",
   "id": "d18aa4e4",
   "metadata": {},
   "source": [
    "<h3> Scenario I </h3>"
   ]
  },
  {
   "cell_type": "code",
   "execution_count": 4,
   "id": "9e25e7f0",
   "metadata": {},
   "outputs": [
    {
     "name": "stdout",
     "output_type": "stream",
     "text": [
      "Scenario I Results:\n",
      "Solution 1: Ciara, Jane, Jim, Juan\n",
      "Solution 2: Ciara, Jane, Jim, Mary\n"
     ]
    }
   ],
   "source": [
    "# Define variables\n",
    "names = [\"Ciara\", \"Peter\", \"Juan\", \"Jim\", \"Jane\", \"Mary\", \"Bruce\", \"Anita\"]\n",
    "\n",
    "abilities = {\n",
    "    \"Ciara\": [\"Python\"],\n",
    "    \"Peter\": [\"Python\", \"AI\"],\n",
    "    \"Juan\": [\"Web\", \"AI\"],\n",
    "    \"Jim\": [\"AI\", \"Systems\"],\n",
    "    \"Jane\": [\"Python\", \"Database\"],\n",
    "    \"Mary\": [\"Web\", \"AI\"],\n",
    "    \"Bruce\": [\"Systems\", \"Python\"],\n",
    "    \"Anita\": [\"Photoshop\", \"AI\"]\n",
    "}\n",
    "\n",
    "# Define role requirements\n",
    "roles = {\n",
    "    \"Python\": 2,\n",
    "    \"AI\": 2,\n",
    "    \"Web\": 1,\n",
    "    \"Database\": 1,\n",
    "    \"Systems\": 1\n",
    "}\n",
    "\n",
    "class TeamBuilder:\n",
    "    \n",
    "    def __init__(self, names, abilities, roles, hiring_max):\n",
    "        self.names = names\n",
    "        self.abilities = abilities\n",
    "        self.roles = roles\n",
    "        self.hiring_max = hiring_max\n",
    "        self.solutions = []\n",
    "\n",
    "    # Checks if a person can fill any of the remaining roles\n",
    "    def satisfies_constraints(self, person, current_roles, current_team):\n",
    "        person_abilities = self.abilities[person]\n",
    "        for ability in person_abilities:\n",
    "            if ability in current_roles and current_roles[ability] > 0:\n",
    "                if \"Ciara\" in current_team or person == \"Ciara\":\n",
    "                    return True\n",
    "        return False\n",
    "\n",
    "    # Recursively builds teams and checks if they satisfy the constraints\n",
    "    def hire_team(self, current_roles, current_team):\n",
    "        if len(current_team) == self.hiring_max:\n",
    "            if all(value == 0 for value in current_roles.values()):\n",
    "                sorted_team = sorted(list(current_team))\n",
    "                if sorted_team not in self.solutions:\n",
    "                    self.solutions.append(sorted_team)\n",
    "            return\n",
    "        for person in self.names:\n",
    "            if person not in current_team and self.satisfies_constraints(person, current_roles, current_team):\n",
    "                new_roles = current_roles.copy()\n",
    "                for ability in self.abilities[person]:\n",
    "                    if ability in new_roles and new_roles[ability] > 0:\n",
    "                        new_roles[ability] -= 1\n",
    "                        # The person can fill a remaining role\n",
    "                        # Recursively call the function\n",
    "                        self.hire_team(new_roles, current_team | {person})\n",
    "    \n",
    "    # Print solutions in a user-friendly format\n",
    "    def print_solutions(self):\n",
    "        if self.solutions:\n",
    "            print(\"Scenario I Results:\")\n",
    "            for idx, team in enumerate(self.solutions, start=1):\n",
    "                print(f\"Solution {idx}: {', '.join(team)}\")\n",
    "        else:\n",
    "            print(\"No solution found.\")\n",
    "                        \n",
    "# Start team search\n",
    "team_builder = TeamBuilder(names, abilities, roles, 4)\n",
    "team_builder.hire_team(roles, set())\n",
    "team_builder.print_solutions()"
   ]
  },
  {
   "cell_type": "markdown",
   "id": "e189eb78",
   "metadata": {},
   "source": [
    "<h2> Scenario II </h2>"
   ]
  },
  {
   "cell_type": "code",
   "execution_count": 5,
   "id": "c698da54",
   "metadata": {},
   "outputs": [
    {
     "name": "stdout",
     "output_type": "stream",
     "text": [
      "Scenario II Results:\n",
      "Solution 1: Ciara, Jane, Jim, Juan, Mary, Peter\n",
      "Solution 2: Anita, Ciara, Jane, Jim, Juan, Peter\n",
      "Solution 3: Anita, Ciara, Jane, Jim, Juan, Mary\n",
      "Solution 4: Bruce, Ciara, Jane, Jim, Juan, Peter\n",
      "Solution 5: Bruce, Ciara, Jane, Juan, Mary, Peter\n",
      "Solution 6: Anita, Bruce, Ciara, Jane, Juan, Peter\n",
      "Solution 7: Bruce, Ciara, Jane, Jim, Juan, Mary\n",
      "Solution 8: Anita, Bruce, Ciara, Jane, Jim, Juan\n",
      "Solution 9: Anita, Bruce, Ciara, Jane, Juan, Mary\n"
     ]
    }
   ],
   "source": [
    "# Define variables\n",
    "names = [\"Ciara\", \"Peter\", \"Juan\", \"Jim\", \"Jane\", \"Mary\", \"Bruce\", \"Anita\"]\n",
    "\n",
    "abilities = {\n",
    "    \"Ciara\": [\"Python\"],\n",
    "    \"Peter\": [\"Python\", \"AI\"],\n",
    "    \"Juan\": [\"Web\", \"AI\"],\n",
    "    \"Jim\": [\"AI\", \"Systems\"],\n",
    "    \"Jane\": [\"Python\", \"Database\"],\n",
    "    \"Mary\": [\"Web\", \"AI\"],\n",
    "    \"Bruce\": [\"Systems\", \"Python\"],\n",
    "    \"Anita\": [\"Photoshop\", \"AI\"]\n",
    "}\n",
    "\n",
    "# Define role requirements\n",
    "roles = {\n",
    "    \"Python\": 2,\n",
    "    \"AI\": 3,\n",
    "    \"Web\": 1,\n",
    "    \"Database\": 1,\n",
    "    \"Systems\": 1\n",
    "}\n",
    "\n",
    "class TeamBuilder:\n",
    "    \n",
    "    def __init__(self, names, abilities, roles, hiring_max):\n",
    "        self.names = names\n",
    "        self.abilities = abilities\n",
    "        self.roles = roles\n",
    "        self.hiring_max = hiring_max\n",
    "        self.solutions = []\n",
    "\n",
    "    # Checks if a person can fill any of the remaining roles\n",
    "    def satisfies_constraints(self, person, current_roles, current_team):\n",
    "        person_abilities = self.abilities[person]\n",
    "        for ability in person_abilities:\n",
    "            if ability in current_roles and current_roles[ability] > 0:\n",
    "                if \"Ciara\" in current_team or person == \"Ciara\" and \"Juan\" in current_team or person == \"Juan\":\n",
    "                    return True\n",
    "        return False\n",
    "\n",
    "    # Recursively builds teams and checks if they satisfy the constraints\n",
    "    def hire_team(self, current_roles, current_team):\n",
    "        if len(current_team) >= self.hiring_max:\n",
    "            if all(value == 0 for value in current_roles.values()):\n",
    "                sorted_team = sorted(list(current_team))\n",
    "                if sorted_team not in self.solutions:\n",
    "                    self.solutions.append(sorted_team)\n",
    "            return\n",
    "        for person in self.names:\n",
    "            if person not in current_team and self.satisfies_constraints(person, current_roles, current_team):\n",
    "                new_roles = current_roles.copy()\n",
    "                for ability in self.abilities[person]:\n",
    "                    if ability in new_roles and new_roles[ability] > 0:\n",
    "                        new_roles[ability] -= 1\n",
    "                        # The person can fill a remaining role\n",
    "                        # Recursively call the function\n",
    "                        self.hire_team(new_roles, current_team | {person})\n",
    "                        \n",
    "    # Print solutions in a user-friendly format\n",
    "    def print_solutions(self):\n",
    "        if self.solutions:\n",
    "            print(\"Scenario II Results:\")\n",
    "            for idx, team in enumerate(self.solutions, start=1):\n",
    "                print(f\"Solution {idx}: {', '.join(team)}\")\n",
    "        else:\n",
    "            print(\"No solution found.\")\n",
    "                        \n",
    "# Start team search\n",
    "team_builder = TeamBuilder(names, abilities, roles, 6)\n",
    "team_builder.hire_team(roles, set())\n",
    "team_builder.print_solutions()"
   ]
  },
  {
   "cell_type": "markdown",
   "id": "a8eeba43",
   "metadata": {},
   "source": [
    "---"
   ]
  },
  {
   "cell_type": "markdown",
   "id": "986b8092",
   "metadata": {},
   "source": [
    "<h1> <u>Data Visualization Tasks</u></h1>"
   ]
  },
  {
   "cell_type": "markdown",
   "id": "9c860f83",
   "metadata": {},
   "source": [
    "<h2> Visualizing CSP </h2>"
   ]
  },
  {
   "cell_type": "code",
   "execution_count": null,
   "id": "666a57d1",
   "metadata": {},
   "outputs": [],
   "source": [
    "#pip install dash"
   ]
  },
  {
   "cell_type": "code",
   "execution_count": 6,
   "id": "db306216",
   "metadata": {},
   "outputs": [],
   "source": [
    "# Import libraries\n",
    "import networkx as nx\n",
    "import matplotlib.pyplot as plt\n",
    "import matplotlib.patches as mpatches\n",
    "import seaborn as sns\n",
    "import plotly.express as px\n",
    "import dash\n",
    "from dash import dcc, html\n",
    "from dash.dependencies import Input, Output"
   ]
  },
  {
   "cell_type": "code",
   "execution_count": 7,
   "id": "b81da6af",
   "metadata": {},
   "outputs": [
    {
     "data": {
      "image/png": "[encoded data removed]",
      "text/plain": [
       "<Figure size 800x600 with 1 Axes>"
      ]
     },
     "metadata": {},
     "output_type": "display_data"
    }
   ],
   "source": [
    "# Define the roles and number of employees needed\n",
    "roles = ['Python Programmer', 'AI Engineer', 'Web Designer', 'Database Admin', 'Systems Engineer']\n",
    "num_employees = [2, 2, 1, 1, 1]\n",
    "# Create the bar chart\n",
    "plt.figure(figsize=(8, 6))\n",
    "sns.set_style(\"whitegrid\")\n",
    "ax = sns.barplot(x=roles, y=num_employees, palette=\"muted\")\n",
    "ax.set_title(\"Number of Employees Needed for Each Role\")\n",
    "ax.set_xlabel(\"Role\")\n",
    "ax.set_ylabel(\"Number of Employees\")\n",
    "plt.show()"
   ]
  },
  {
   "cell_type": "code",
   "execution_count": 8,
   "id": "4252067c",
   "metadata": {},
   "outputs": [
    {
     "data": {
      "image/png": "[encoded data removed]",
      "text/plain": [
       "<Figure size 1000x800 with 1 Axes>"
      ]
     },
     "metadata": {},
     "output_type": "display_data"
    }
   ],
   "source": [
    "# Define the nodes (employees) and edges (abilities)\n",
    "employees = ['Ciara', 'Peter', 'Juan', 'Jim', 'Jane', 'Mary', 'Bruce', 'Anita']\n",
    "roles = ['Python Programmer', 'AI Engineer', 'Web Designer', 'Systems Engineer', 'Database Admin']\n",
    "edges = [('Ciara', 'Python Programmer'), ('Peter', 'Python Programmer'), ('Peter', 'AI Engineer'), ('Juan', 'Web Designer'), ('Juan', 'AI Engineer'), \n",
    "         ('Jim', 'AI Engineer'), ('Jim', 'Systems Engineer'), ('Jane', 'Python Programmer'), ('Jane', 'Database Admin'), \n",
    "         ('Mary', 'Web Designer'), ('Mary', 'AI Engineer'), ('Bruce', 'Systems Engineer'), ('Bruce', 'Python Programmer'), ('Anita', 'AI Engineer')]\n",
    "\n",
    "# Create the graph\n",
    "G = nx.Graph()\n",
    "G.add_nodes_from(employees)\n",
    "G.add_nodes_from(roles)\n",
    "G.add_edges_from(edges)\n",
    "\n",
    "# Draw the graph\n",
    "random_state = 39\n",
    "pos = nx.spring_layout(G, seed=random_state)\n",
    "plt.figure(figsize=(10, 8))\n",
    "\n",
    "# Assign different colors to employee nodes and skill nodes\n",
    "nx.draw_networkx_nodes(G, pos, nodelist=employees, node_color='skyblue', node_size=1000)\n",
    "nx.draw_networkx_nodes(G, pos, nodelist=roles, node_color='lightgreen', node_size=1000)\n",
    "\n",
    "nx.draw_networkx_edges(G, pos, width=2, alpha=0.8, edge_color='grey')\n",
    "nx.draw_networkx_labels(G, pos, font_size=12, font_family='sans-serif')\n",
    "\n",
    "# Create legend\n",
    "blue_patch = mpatches.Patch(color='skyblue', label='Candidate')\n",
    "green_patch = mpatches.Patch(color='lightgreen', label='Role')\n",
    "plt.legend(handles=[blue_patch, green_patch], title=\"Legend\", title_fontsize='13', loc='upper left')\n",
    "\n",
    "plt.axis('off')\n",
    "plt.show()"
   ]
  },
  {
   "cell_type": "markdown",
   "id": "98e82d23",
   "metadata": {},
   "source": [
    "<h3> Scenario I - Visualizing Solutions </h3>"
   ]
  },
  {
   "cell_type": "code",
   "execution_count": 9,
   "id": "56404640",
   "metadata": {},
   "outputs": [
    {
     "data": {
      "text/html": [
       "\n",
       "        <iframe\n",
       "            width=\"100%\"\n",
       "            height=\"650\"\n",
       "            src=\"http://127.0.0.1:8051/\"\n",
       "            frameborder=\"0\"\n",
       "            allowfullscreen\n",
       "            \n",
       "        ></iframe>\n",
       "        "
      ],
      "text/plain": [
       "<IPython.lib.display.IFrame at 0x25f48738610>"
      ]
     },
     "metadata": {},
     "output_type": "display_data"
    }
   ],
   "source": [
    "# Solution data\n",
    "solutions = [\n",
    "    [\"Ciara\", \"Jane\", \"Jim\", \"Juan\"],\n",
    "    [\"Ciara\", \"Jane\", \"Jim\", \"Mary\"]\n",
    "]\n",
    "\n",
    "# Create a list of dictionaries for each team solution\n",
    "data = []\n",
    "for idx, team in enumerate(solutions, start=1):\n",
    "    for member in team:\n",
    "        for skill in abilities[member]:\n",
    "            # Create a dictionary for each team member's role in the solution\n",
    "            data.append({\n",
    "                \"Solution\": f\"Solution {idx}\",\n",
    "                \"Team Member\": member,\n",
    "                \"Role\": skill\n",
    "            })\n",
    "\n",
    "# Create the scatter plot using Plotly\n",
    "fig = px.scatter(\n",
    "    data,\n",
    "    x=\"Role\",\n",
    "    y=\"Team Member\",\n",
    "    color=\"Team Member\",\n",
    "    labels={\"Role\": \"Roles\", \"Team Member\": \"Team Members\"}\n",
    ")\n",
    "\n",
    "# Create the Dash app\n",
    "app = dash.Dash(__name__)\n",
    "\n",
    "# Layout of the app with dropdown menu and buttons\n",
    "app.layout = html.Div([\n",
    "    dcc.Graph(id='scatter-plot', figure=fig),\n",
    "    dcc.Dropdown(\n",
    "        id='solution-dropdown',\n",
    "        options=[\n",
    "            {'label': f'Solution {idx}', 'value': f'Solution {idx}'}\n",
    "            for idx in range(1, len(solutions) + 1)\n",
    "        ],\n",
    "        value='Solution 1',\n",
    "        multi=False,\n",
    "        clearable=False\n",
    "    ),\n",
    "])\n",
    "\n",
    "# Callback to update the scatter plot based on dropdown selection\n",
    "@app.callback(\n",
    "    Output('scatter-plot', 'figure'),\n",
    "    [Input('solution-dropdown', 'value')]\n",
    ")\n",
    "def update_plot(selected_solution):\n",
    "    # Filter data based on the selected solution\n",
    "    filtered_data = [d for d in data if d['Solution'] == selected_solution]\n",
    "\n",
    "    # Create an updated scatter plot with the filtered data\n",
    "    updated_fig = px.scatter(\n",
    "        filtered_data,\n",
    "        x=\"Role\",\n",
    "        y=\"Team Member\",\n",
    "        color=\"Team Member\",\n",
    "        title=f\"Scenario I: {selected_solution}\",\n",
    "        labels={\"Role\": \"Roles\", \"Team Member\": \"Team Members\"}\n",
    "    )\n",
    "\n",
    "    return updated_fig\n",
    "\n",
    "# Run the app\n",
    "if __name__ == '__main__':\n",
    "    app.run_server(debug=True, port=8051)"
   ]
  },
  {
   "cell_type": "markdown",
   "id": "5e14568a",
   "metadata": {},
   "source": [
    "<h3> Scenario II - Visualizing Solutions </h3>"
   ]
  },
  {
   "cell_type": "code",
   "execution_count": 10,
   "id": "fdddffeb",
   "metadata": {},
   "outputs": [
    {
     "data": {
      "text/html": [
       "\n",
       "        <iframe\n",
       "            width=\"100%\"\n",
       "            height=\"650\"\n",
       "            src=\"http://127.0.0.1:8052/\"\n",
       "            frameborder=\"0\"\n",
       "            allowfullscreen\n",
       "            \n",
       "        ></iframe>\n",
       "        "
      ],
      "text/plain": [
       "<IPython.lib.display.IFrame at 0x25f47d5a790>"
      ]
     },
     "metadata": {},
     "output_type": "display_data"
    }
   ],
   "source": [
    "# Solution data\n",
    "solutions = [\n",
    "    [\"Ciara\", \"Jane\", \"Jim\", \"Juan\", \"Peter\"],\n",
    "    [\"Ciara\", \"Jane\", \"Jim\", \"Juan\", \"Mary\"],\n",
    "    [\"Anita\", \"Ciara\", \"Jim\", \"Juan\", \"Jane\"],\n",
    "    [\"Anita\", \"Bruce\", \"Ciara\", \"Jane\", \"Juan\", \"Mary\"],\n",
    "    [\"Anita\", \"Bruce\", \"Ciara\", \"Jane\", \"Juan\", \"Peter\"],\n",
    "    [\"Bruce\", \"Ciara\", \"Jane\", \"Juan\", \"Mary\", \"Peter\"]\n",
    "]\n",
    "\n",
    "# Create a list of dictionaries for each team solution\n",
    "data = []\n",
    "for idx, team in enumerate(solutions, start=1):\n",
    "    for member in team:\n",
    "        for skill in abilities[member]:\n",
    "            data.append({\n",
    "                \"Solution\": f\"Solution {idx}\",\n",
    "                \"Team Member\": member,\n",
    "                \"Role\": skill\n",
    "            })\n",
    "\n",
    "# Create the scatter plot\n",
    "fig = px.scatter(\n",
    "    data,\n",
    "    x=\"Role\",\n",
    "    y=\"Team Member\",\n",
    "    color=\"Team Member\",\n",
    "    labels={\"Role\": \"Roles\", \"Team Member\": \"Team Members\"}\n",
    ")\n",
    "\n",
    "# Create the Dash app\n",
    "app = dash.Dash(__name__)\n",
    "\n",
    "# Layout of the app with dropdown menu and buttons\n",
    "app.layout = html.Div([\n",
    "    dcc.Graph(id='scatter-plot', figure=fig),\n",
    "    dcc.Dropdown(\n",
    "        id='solution-dropdown',\n",
    "        options=[\n",
    "            {'label': f'Solution {idx}', 'value': f'Solution {idx}'}\n",
    "            for idx in range(1, len(solutions) + 1)\n",
    "        ],\n",
    "        value='Solution 1',\n",
    "        multi=False,\n",
    "        clearable=False\n",
    "    ),\n",
    "])\n",
    "\n",
    "# Callback to update the scatter plot based on dropdown selection\n",
    "@app.callback(\n",
    "    Output('scatter-plot', 'figure'),\n",
    "    [Input('solution-dropdown', 'value')]\n",
    ")\n",
    "def update_plot(selected_solution):\n",
    "    filtered_data = [d for d in data if d['Solution'] == selected_solution]\n",
    "\n",
    "    updated_fig = px.scatter(\n",
    "        filtered_data,\n",
    "        x=\"Role\",\n",
    "        y=\"Team Member\",\n",
    "        color=\"Team Member\",  # Color by name\n",
    "        title=f\"Scenario II: {selected_solution}\",\n",
    "        labels={\"Role\": \"Roles\", \"Team Member\": \"Team Members\"}\n",
    "    )\n",
    "\n",
    "    return updated_fig\n",
    "\n",
    "# Run the app\n",
    "if __name__ == '__main__':\n",
    "    app.run_server(debug=True, port=8052)"
   ]
  },
  {
   "cell_type": "code",
   "execution_count": null,
   "id": "58935d9e",
   "metadata": {},
   "outputs": [],
   "source": []
  }
 ],
 "metadata": {
  "kernelspec": {
   "display_name": "Python 3 (ipykernel)",
   "language": "python",
   "name": "python3"
  },
  "language_info": {
   "codemirror_mode": {
    "name": "ipython",
    "version": 3
   },
   "file_extension": ".py",
   "mimetype": "text/x-python",
   "name": "python",
   "nbconvert_exporter": "python",
   "pygments_lexer": "ipython3",
   "version": "3.11.5"
  }
 },
 "nbformat": 4,
 "nbformat_minor": 5
}
