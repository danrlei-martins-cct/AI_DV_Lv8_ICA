{
 "cells": [
  {
   "attachments": {
    "image.png": {
     "image/png": "[encoded data removed]"
    }
   },
   "cell_type": "markdown",
   "id": "affb58b3",
   "metadata": {},
   "source": [
    "![image.png](attachment:image.png)"
   ]
  },
  {
   "cell_type": "markdown",
   "id": "ef7de40e",
   "metadata": {},
   "source": [
    "<div style=\"text-align: center;\">\n",
    "    <h2>Integrated CA</h2>\n",
    "    <h2><u>Artificial Intelligence & Data Visualization and Communication</u></h1>\n",
    "    <h3>Lecturers: David McQuaid and Sam Weiss</h3>\n",
    "    <h3>Student Name: Danrlei da Silva Martins</h3>\n",
    "    <h3>Student Number: 2020322</h3>\n",
    "    <h3><a href=\"https://github.com/danrlei-martins-cct/AI_DV_Lv8_ICA\">GitHub Repository</a></h3>\n",
    "</div>"
   ]
  },
  {
   "cell_type": "markdown",
   "id": "ce89094c",
   "metadata": {},
   "source": [
    "***"
   ]
  },
  {
   "cell_type": "markdown",
   "id": "22c1b180",
   "metadata": {},
   "source": [
    "<h1> <u>Artificial Intelligence Tasks</u></h1>"
   ]
  },
  {
   "cell_type": "markdown",
   "id": "0d23e027",
   "metadata": {},
   "source": [
    "<h3> Constraint Satisfaction Problem</h3>\n",
    "\n",
    "Ciara is looking for employees for her new company, which develops and provides AI based logistic software for retailers. Ciara has determined that she needs:\n",
    "- 2 Python Programmers\n",
    "- 2 AI Engineers\n",
    "- 1 Web Designer\n",
    "- 1 Database Admin\n",
    "- 1 Systems Engineer\n",
    "\n",
    "Assume that if a person has two abilities, he or she can take on two roles in the company. So, Ciara narrowed down her selections to the following people:\n",
    "\n",
    "<table>\n",
    "    <tr>\n",
    "        <th>Name</th>\n",
    "        <th>Abilities</th>\n",
    "    </tr>\n",
    "    <tr>\n",
    "        <td>Peter</td>\n",
    "        <td>Python and AI</td>\n",
    "    </tr>\n",
    "    <tr>\n",
    "        <td>Juan</td>\n",
    "        <td>Web and AI</td>\n",
    "    </tr>\n",
    "    <tr>\n",
    "        <td>Jim</td>\n",
    "        <td>AI and Systems</td>\n",
    "    </tr> \n",
    "    <tr>\n",
    "        <td>Jane</td>\n",
    "        <td>Python and Database</td>\n",
    "    </tr>    \n",
    "    <tr>\n",
    "        <td>Mary</td>\n",
    "        <td>Web and AI</td>\n",
    "    </tr>    \n",
    "    <tr>\n",
    "        <td>Bruce</td>\n",
    "        <td>Systems and Python</td>\n",
    "    </tr>    \n",
    "    <tr>\n",
    "        <td>Anita</td>\n",
    "        <td>Photoshop and AI</td>\n",
    "    </tr>    \n",
    "</table>"
   ]
  },
  {
   "cell_type": "markdown",
   "id": "89698ba6",
   "metadata": {},
   "source": [
    "<h3> Scenario I </h3>\n",
    "\n",
    "Suppose Ciara knows Python, and only has funds to hire three more people."
   ]
  },
  {
   "cell_type": "code",
   "execution_count": 1,
   "id": "07c5efb1",
   "metadata": {},
   "outputs": [],
   "source": [
    "# Import library\n",
    "from ortools.sat.python import cp_model"
   ]
  },
  {
   "cell_type": "code",
   "execution_count": 2,
   "id": "fbac2a74",
   "metadata": {},
   "outputs": [],
   "source": [
    "# Defining variables\n",
    "names = [\"Ciara\", \"Peter\", \"Juan\", \"Jim\", \"Jane\", \"Mary\", \"Bruce\", \"Anita\"]\n",
    "\n",
    "abilities = {\n",
    "  \"Ciara\": [\"Python\"],\n",
    "  \"Peter\": [\"Python\", \"AI\"],\n",
    "  \"Juan\": [\"Web\", \"AI\"],\n",
    "  \"Jim\": [\"AI\", \"Systems\"],\n",
    "  \"Jane\": [\"Python\", \"Database\"],\n",
    "  \"Mary\": [\"Web\", \"Systems\"],\n",
    "  \"Bruce\": [\"Systems\", \"Python\"],\n",
    "  \"Anita\": [\"Web\", \"AI\"]\n",
    "}"
   ]
  },
  {
   "cell_type": "code",
   "execution_count": 3,
   "id": "bbe3ae6e",
   "metadata": {},
   "outputs": [],
   "source": [
    "# Helper functions (refactoring)\n",
    "def print_solution(selected_team, solution_count):\n",
    "    print(f\"Solution {solution_count}:\")\n",
    "    print(\"Selected Team:\", ', '.join(selected_team))\n",
    "    print(f\"Number of selected candidates: {len(selected_team)}\\n\")\n",
    "    \n",
    "def find_next_solution(model, solver, is_selected, names):\n",
    "    selected_team = [name for name in names if solver.Value(is_selected[name]) == 1]\n",
    "    # Exclude the current solution\n",
    "    model.Add(sum(is_selected[name] for name in selected_team) < len(selected_team))\n",
    "    try:\n",
    "        status = solver.Solve(model)\n",
    "        return status, selected_team\n",
    "    except cp_model.SolverException as e:\n",
    "        print(f\"Error: {e}\")\n",
    "        return None, None"
   ]
  },
  {
   "cell_type": "code",
   "execution_count": 4,
   "id": "50283f28",
   "metadata": {},
   "outputs": [
    {
     "name": "stdout",
     "output_type": "stream",
     "text": [
      "Scenario I Results\n",
      "\n",
      "Solution 1:\n",
      "Selected Team: Ciara, Jim, Jane, Anita\n",
      "Number of selected candidates: 4\n",
      "\n",
      "Solution 2:\n",
      "Selected Team: Ciara, Juan, Jim, Jane\n",
      "Number of selected candidates: 4\n",
      "\n"
     ]
    }
   ],
   "source": [
    "# Creating a constraint programming model\n",
    "model = cp_model.CpModel()\n",
    "\n",
    "# Role requirements\n",
    "role_requirements = {\n",
    "    \"Python\": 2,\n",
    "    \"AI\": 2,\n",
    "    \"Web\": 1,\n",
    "    \"Database\": 1,\n",
    "    \"Systems\": 1\n",
    "}\n",
    "\n",
    "# The number of people to be hired\n",
    "hiring_max = 4\n",
    "\n",
    "# Decision variables: 1 if person is selected, 0 otherwise\n",
    "is_selected = {name: model.NewBoolVar(f\"is_selected_{name}\") for name in names}\n",
    "\n",
    "# Constraint: Ciara is selected\n",
    "model.Add(is_selected[\"Ciara\"] == 1)\n",
    "\n",
    "# Constraint: Each role needs to be covered\n",
    "for role, count in role_requirements.items():\n",
    "    model.Add(sum(is_selected[name] for name in names if role in abilities[name]) == count)\n",
    "\n",
    "# Constraint: Select a maximum of 4 people\n",
    "model.Add(sum(is_selected.values()) <= hiring_max)\n",
    "\n",
    "# Solving the model\n",
    "solver = cp_model.CpSolver()\n",
    "status = solver.Solve(model)\n",
    "\n",
    "# Displaying the solution or indicating if no solution is found\n",
    "print(\"Scenario I Results\\n\")\n",
    "if status == cp_model.OPTIMAL or status == cp_model.FEASIBLE:\n",
    "    solution_count = 0\n",
    "    while True:\n",
    "        selected_team = find_next_solution(model, solver, is_selected, names)\n",
    "        if selected_team is None:\n",
    "            break\n",
    "\n",
    "        status, selected_team = selected_team\n",
    "        solution_count += 1\n",
    "        print_solution(selected_team, solution_count)\n",
    "        \n",
    "        # Break the loop if no more solutions\n",
    "        if status != cp_model.OPTIMAL and status != cp_model.FEASIBLE:\n",
    "            break\n",
    "else:\n",
    "    print(\"No solution found.\")"
   ]
  },
  {
   "cell_type": "markdown",
   "id": "30a6698e",
   "metadata": {},
   "source": [
    "***"
   ]
  },
  {
   "cell_type": "markdown",
   "id": "43de33e9",
   "metadata": {},
   "source": [
    "<h3> Scenario II </h3>\n",
    "\n",
    "Suppose Ciara and Juan become partners, with the additional funds they can now employ four more people but must employ another AI Engineer."
   ]
  },
  {
   "cell_type": "code",
   "execution_count": 5,
   "id": "8899de72",
   "metadata": {},
   "outputs": [
    {
     "name": "stdout",
     "output_type": "stream",
     "text": [
      "Scenario II Results\n",
      "\n",
      "Solution 1:\n",
      "Selected Team: Ciara, Peter, Juan, Jim, Jane\n",
      "Number of selected candidates: 5\n",
      "\n",
      "Solution 2:\n",
      "Selected Team: Ciara, Juan, Jim, Jane, Anita\n",
      "Number of selected candidates: 5\n",
      "\n",
      "Solution 3:\n",
      "Selected Team: Ciara, Peter, Juan, Jane, Bruce, Anita\n",
      "Number of selected candidates: 6\n",
      "\n",
      "Solution 4:\n",
      "Selected Team: Ciara, Peter, Juan, Jane, Mary, Anita\n",
      "Number of selected candidates: 6\n",
      "\n"
     ]
    }
   ],
   "source": [
    "# Creating a constraint programming model\n",
    "model = cp_model.CpModel()\n",
    "\n",
    "# Role requirements\n",
    "role_requirements = {\n",
    "    \"Python\": 2,\n",
    "    \"AI\": 3,\n",
    "    \"Web\": 1,\n",
    "    \"Database\": 1,\n",
    "    \"Systems\": 1\n",
    "}\n",
    "\n",
    "# The number of people to be hired\n",
    "hiring_max = 6\n",
    "\n",
    "# Decision variables: 1 if person is selected, 0 otherwise\n",
    "is_selected = {name: model.NewBoolVar(f\"is_selected_{name}\") for name in names}\n",
    "\n",
    "# Constraint: Ciara and Juan are selected\n",
    "model.Add(is_selected[\"Ciara\"] == 1)\n",
    "model.Add(is_selected[\"Juan\"] == 1)\n",
    "\n",
    "# Constraint: Each role needs to be covered\n",
    "for role, count in role_requirements.items():\n",
    "    model.Add(sum(is_selected[name] for name in names if role in abilities[name]) >= count)\n",
    "\n",
    "# Constraint: Select a maximum of 6 people\n",
    "model.Add(sum(is_selected.values()) <= hiring_max)\n",
    "\n",
    "# Solving the model\n",
    "solver = cp_model.CpSolver()\n",
    "status = solver.Solve(model)\n",
    "\n",
    "# Displaying the solution or indicating if no solution is found\n",
    "print(\"Scenario II Results\\n\")\n",
    "if status == cp_model.OPTIMAL or status == cp_model.FEASIBLE:\n",
    "    solution_count = 0\n",
    "    while True:\n",
    "        selected_team = find_next_solution(model, solver, is_selected, names)\n",
    "        if selected_team is None:\n",
    "            break\n",
    "\n",
    "        status, selected_team = selected_team\n",
    "        solution_count += 1\n",
    "        print_solution(selected_team, solution_count)\n",
    "        \n",
    "        # Break the loop if no more solutions\n",
    "        if status != cp_model.OPTIMAL and status != cp_model.FEASIBLE:\n",
    "            break\n",
    "else:\n",
    "    print(\"No solution found.\")"
   ]
  },
  {
   "cell_type": "markdown",
   "id": "1d96bd2b",
   "metadata": {},
   "source": [
    "***"
   ]
  },
  {
   "cell_type": "markdown",
   "id": "eab855e0",
   "metadata": {},
   "source": [
    "<h2> Solving CSP with different algorithm</h2>\n",
    "\n",
    "These problems be solved using several other algorithm’s we have studied in the module. Choose one of these algorithms and discuss your answer in detail including a proof of your hypothesis in code."
   ]
  },
  {
   "cell_type": "markdown",
   "id": "78ecdd6b",
   "metadata": {},
   "source": [
    "<h3> Solving CSP with Depth-First Search</h3>"
   ]
  },
  {
   "cell_type": "code",
   "execution_count": 6,
   "id": "240ba8f7",
   "metadata": {},
   "outputs": [],
   "source": [
    "class TeamBuilder:\n",
    "    \n",
    "    def __init__(self, names, abilities, role_requirements, hiring_max):\n",
    "        self.names = names\n",
    "        self.abilities = abilities\n",
    "        self.role_requirements = role_requirements\n",
    "        self.hiring_max = hiring_max\n",
    "        self.solutions = []\n",
    "\n",
    "    # Checks if adding a person to the current team satisfies the constraints\n",
    "    def satisfies_constraints(self, person, current_roles, current_team, scenario):\n",
    "        person_abilities = self.abilities[person]\n",
    "        \n",
    "        for ability in person_abilities:\n",
    "            if ability in current_roles and current_roles[ability] > 0:\n",
    "                if scenario == 1 and (\"Ciara\" in current_team or person == \"Ciara\"):\n",
    "                    return True\n",
    "                if scenario == 2 and (\"Juan\" in current_team or person == \"Juan\") and \"Ciara\" in current_team or person == \"Ciara\":\n",
    "                    return True\n",
    "        return False\n",
    "\n",
    "    # Depth-first search to explore team-building possibilities\n",
    "    def dfs(self, current_roles, current_team, scenario, queue):\n",
    "        if len(current_team) == self.hiring_max:\n",
    "            if all(value == 0 for value in current_roles.values()):\n",
    "                sorted_team = sorted(list(current_team))\n",
    "                if sorted_team not in self.solutions:\n",
    "                    self.solutions.append(sorted_team)\n",
    "            return\n",
    "        \n",
    "        for person in self.names:\n",
    "            if person not in current_team and self.satisfies_constraints(person, current_roles, current_team, scenario):\n",
    "                new_roles = current_roles.copy()\n",
    "                for ability in self.abilities[person]:\n",
    "                    if ability in new_roles and new_roles[ability] > 0:\n",
    "                        new_roles[ability] -= 1\n",
    "                        queue.append((new_roles, current_team | {person}, scenario))\n",
    "\n",
    "    # Intiaties the team-building process by starting the DFS\n",
    "    def hire_team(self, current_roles, current_team, scenario):\n",
    "        queue = [(current_roles, current_team, scenario)]\n",
    "        while queue:\n",
    "            current_roles, current_team, scenario = queue.pop()\n",
    "            self.dfs(current_roles, current_team, scenario, queue)\n",
    "\n",
    "    # Prints the solutions if any, otherwise, prints a message\n",
    "    def print_solutions(self):\n",
    "        if self.solutions:\n",
    "            print(\"Results:\")\n",
    "            for idx, team in enumerate(self.solutions, start=1):\n",
    "                print(f\"Solution {idx}: {', '.join(team)}\")\n",
    "        else:\n",
    "            print(\"No solution found.\")"
   ]
  },
  {
   "cell_type": "code",
   "execution_count": 7,
   "id": "021336d9",
   "metadata": {},
   "outputs": [
    {
     "name": "stdout",
     "output_type": "stream",
     "text": [
      "Scenario I\n",
      "Results:\n",
      "Solution 1: Anita, Ciara, Jane, Jim\n",
      "Solution 2: Ciara, Jane, Jim, Juan\n",
      "\n",
      "Scenario II\n",
      "Results:\n",
      "Solution 1: Anita, Bruce, Ciara, Jane, Jim, Juan\n",
      "Solution 2: Anita, Bruce, Ciara, Jane, Juan, Peter\n",
      "Solution 3: Anita, Ciara, Jane, Jim, Juan, Mary\n",
      "Solution 4: Anita, Ciara, Jane, Juan, Mary, Peter\n",
      "Solution 5: Anita, Ciara, Jane, Jim, Juan, Peter\n",
      "Solution 6: Bruce, Ciara, Jane, Jim, Juan, Peter\n",
      "Solution 7: Ciara, Jane, Jim, Juan, Mary, Peter\n"
     ]
    }
   ],
   "source": [
    "names = [\"Ciara\", \"Peter\", \"Juan\", \"Jim\", \"Jane\", \"Mary\", \"Bruce\", \"Anita\"]\n",
    "abilities = {\n",
    "\"Ciara\": [\"Python\"],\n",
    "\"Peter\": [\"Python\", \"AI\"],\n",
    "\"Juan\": [\"Web\", \"AI\"],\n",
    "\"Jim\": [\"AI\", \"Systems\"],\n",
    "\"Jane\": [\"Python\", \"Database\"],\n",
    "\"Mary\": [\"Web\", \"Systems\"],\n",
    "\"Bruce\": [\"Systems\", \"Python\"],\n",
    "\"Anita\": [\"Web\", \"AI\"]\n",
    "}\n",
    "\n",
    "# Scenario 1: Ciara knows Python and can hire 3 more people\n",
    "role_requirements_scenario_i = {\n",
    "\"Python\": 2,\n",
    "\"AI\": 2,\n",
    "\"Web\": 1,\n",
    "\"Database\": 1,\n",
    "\"Systems\": 1\n",
    "}\n",
    "\n",
    "team_builder = TeamBuilder(names, abilities, role_requirements_scenario_i, 4)\n",
    "team_builder.hire_team(role_requirements_scenario_i, set(), scenario=1)\n",
    "print(\"Scenario I\")\n",
    "team_builder.print_solutions()\n",
    "\n",
    "# Scenario 2: Ciara and Juan are partners, can hire 4 more people but need one more AI engineer\n",
    "role_requirements_scenario_ii = {\n",
    "\"Python\": 2,\n",
    "\"AI\": 3,\n",
    "\"Web\": 1,\n",
    "\"Database\": 1,\n",
    "\"Systems\": 1\n",
    "}\n",
    "\n",
    "team_builder_scenario_ii = TeamBuilder(names, abilities, role_requirements_scenario_ii, 6)\n",
    "team_builder_scenario_ii.hire_team(role_requirements_scenario_ii, set(), scenario=2)\n",
    "print(\"\\nScenario II\")\n",
    "team_builder_scenario_ii.print_solutions()"
   ]
  },
  {
   "cell_type": "markdown",
   "id": "a8eeba43",
   "metadata": {},
   "source": [
    "---"
   ]
  },
  {
   "cell_type": "markdown",
   "id": "986b8092",
   "metadata": {},
   "source": [
    "<h1> <u>Data Visualization Tasks</u></h1> \n",
    "\n",
    "Tasks include:\n",
    "- Use appropriate visualisations to help communicate the CSP scenario and the corresponding solutions, if any, to the appropriate stakeholders.\n",
    "- Create interactive visualisation(s) to allow a user to explore alternate constraint scenarios.\n"
   ]
  },
  {
   "cell_type": "markdown",
   "id": "9c860f83",
   "metadata": {},
   "source": [
    "<h2> Visualizing CSP </h2>"
   ]
  },
  {
   "cell_type": "code",
   "execution_count": null,
   "id": "666a57d1",
   "metadata": {},
   "outputs": [],
   "source": [
    "#pip install dash"
   ]
  },
  {
   "cell_type": "code",
   "execution_count": 8,
   "id": "db306216",
   "metadata": {},
   "outputs": [],
   "source": [
    "# Import libraries\n",
    "import networkx as nx\n",
    "import matplotlib.pyplot as plt\n",
    "import matplotlib.patches as mpatches\n",
    "import seaborn as sns\n",
    "import plotly.express as px\n",
    "import plotly.graph_objs as go\n",
    "import plotly.subplots as sp\n",
    "import dash\n",
    "from dash import dcc, html\n",
    "from dash.dependencies import Input, Output"
   ]
  },
  {
   "cell_type": "code",
   "execution_count": 9,
   "id": "b81da6af",
   "metadata": {},
   "outputs": [
    {
     "data": {
      "image/png": "[encoded data removed]",
      "text/plain": [
       "<Figure size 800x600 with 1 Axes>"
      ]
     },
     "metadata": {},
     "output_type": "display_data"
    }
   ],
   "source": [
    "# Define the roles and number of employees needed\n",
    "roles = ['Python Programmer', 'AI Engineer', 'Web Designer', 'Database Admin', 'Systems Engineer']\n",
    "num_employees = [2, 2, 1, 1, 1]\n",
    "# Create the bar chart\n",
    "plt.figure(figsize=(8, 6))\n",
    "sns.set_style(\"whitegrid\")\n",
    "ax = sns.barplot(x=roles, y=num_employees, palette=\"muted\")\n",
    "ax.set_title(\"Number of Employees Needed for Each Role\")\n",
    "ax.set_xlabel(\"Role\")\n",
    "ax.set_ylabel(\"Number of Employees\")\n",
    "plt.show()"
   ]
  },
  {
   "cell_type": "code",
   "execution_count": 10,
   "id": "4252067c",
   "metadata": {},
   "outputs": [
    {
     "data": {
      "image/png": "[encoded data removed]",
      "text/plain": [
       "<Figure size 1000x800 with 1 Axes>"
      ]
     },
     "metadata": {},
     "output_type": "display_data"
    }
   ],
   "source": [
    "# Define the nodes (employees) and edges (abilities)\n",
    "employees = ['Ciara', 'Peter', 'Juan', 'Jim', 'Jane', 'Mary', 'Bruce', 'Anita']\n",
    "roles = ['Python Programmer', 'AI Engineer', 'Web Designer', 'Systems Engineer', 'Database Admin']\n",
    "edges = [('Ciara', 'Python Programmer'), ('Peter', 'Python Programmer'), ('Peter', 'AI Engineer'), ('Juan', 'Web Designer'), ('Juan', 'AI Engineer'), \n",
    "         ('Jim', 'AI Engineer'), ('Jim', 'Systems Engineer'), ('Jane', 'Python Programmer'), ('Jane', 'Database Admin'), \n",
    "         ('Mary', 'Web Designer'), ('Mary', 'Systems Engineer'), ('Bruce', 'Systems Engineer'), ('Bruce', 'Python Programmer'), ('Anita', 'AI Engineer'), ('Anita', 'Web Designer')]\n",
    "\n",
    "# Create the graph\n",
    "G = nx.Graph()\n",
    "G.add_nodes_from(employees)\n",
    "G.add_nodes_from(roles)\n",
    "G.add_edges_from(edges)\n",
    "\n",
    "# Draw the graph\n",
    "random_state = 37\n",
    "pos = nx.spring_layout(G, seed=random_state)\n",
    "plt.figure(figsize=(10, 8))\n",
    "\n",
    "# Assign different colors to employee nodes and skill nodes\n",
    "nx.draw_networkx_nodes(G, pos, nodelist=employees, node_color='skyblue', node_size=1000)\n",
    "nx.draw_networkx_nodes(G, pos, nodelist=roles, node_color='lightgreen', node_size=1000)\n",
    "\n",
    "nx.draw_networkx_edges(G, pos, width=2, alpha=0.8, edge_color='grey')\n",
    "nx.draw_networkx_labels(G, pos, font_size=12, font_family='sans-serif')\n",
    "\n",
    "# Create legend\n",
    "blue_patch = mpatches.Patch(color='skyblue', label='Candidate')\n",
    "green_patch = mpatches.Patch(color='lightgreen', label='Role')\n",
    "plt.legend(handles=[blue_patch, green_patch], title=\"Legend\", title_fontsize='13', loc='upper left')\n",
    "\n",
    "plt.axis('off')\n",
    "plt.show()"
   ]
  },
  {
   "cell_type": "markdown",
   "id": "98e82d23",
   "metadata": {},
   "source": [
    "<h3> Interactive Plot - Exploring Alternative Constraints </h3>"
   ]
  },
  {
   "cell_type": "code",
   "execution_count": 11,
   "id": "1eb01776",
   "metadata": {},
   "outputs": [],
   "source": [
    "# Generic TeamBuilder class without hiring constraints\n",
    "class TeamBuilder:\n",
    "    \n",
    "    def __init__(self, names, abilities, role_requirements, hiring_max):\n",
    "        self.names = names\n",
    "        self.abilities = abilities\n",
    "        self.role_requirements = role_requirements\n",
    "        self.hiring_max = hiring_max\n",
    "        self.solutions = []\n",
    "        self.team_sizes = []\n",
    "\n",
    "    def satisfies_constraints(self, person, current_roles, current_team):\n",
    "        person_abilities = self.abilities[person]\n",
    "        \n",
    "        for ability in person_abilities:\n",
    "            if ability in current_roles and current_roles[ability] > 0:\n",
    "                    return True\n",
    "        return False\n",
    "\n",
    "    def hire_team(self, current_roles, current_team):\n",
    "        if len(current_team) == self.hiring_max:\n",
    "            if all(value == 0 for value in current_roles.values()):\n",
    "                sorted_team = sorted(list(current_team))\n",
    "                if sorted_team not in self.solutions:\n",
    "                    self.solutions.append(sorted_team)\n",
    "                    self.team_sizes.append(len(sorted_team))\n",
    "        \n",
    "        for person in self.names:\n",
    "            if person not in current_team and self.satisfies_constraints(person, current_roles, current_team):\n",
    "                new_roles = current_roles.copy()\n",
    "                for ability in self.abilities[person]:\n",
    "                    if ability in new_roles and new_roles[ability] > 0:\n",
    "                        new_roles[ability] -= 1\n",
    "                        self.hire_team(new_roles, current_team | {person})\n",
    "\n",
    "    def print_solutions(self):\n",
    "        if self.solutions:\n",
    "            print(\"Results:\")\n",
    "            for idx, team in enumerate(self.solutions, start=1):\n",
    "                print(f\"Solution {idx}: {', '.join(team)}\")\n",
    "        else:\n",
    "            print(\"No solution found.\")    "
   ]
  },
  {
   "cell_type": "code",
   "execution_count": 20,
   "id": "76b0ae52",
   "metadata": {
    "scrolled": false
   },
   "outputs": [
    {
     "data": {
      "text/html": [
       "\n",
       "        <iframe\n",
       "            width=\"100%\"\n",
       "            height=\"650\"\n",
       "            src=\"http://127.0.0.1:8050/\"\n",
       "            frameborder=\"0\"\n",
       "            allowfullscreen\n",
       "            \n",
       "        ></iframe>\n",
       "        "
      ],
      "text/plain": [
       "<IPython.lib.display.IFrame at 0x231ce40b810>"
      ]
     },
     "metadata": {},
     "output_type": "display_data"
    }
   ],
   "source": [
    "app = dash.Dash(__name__)\n",
    "\n",
    "app.layout = html.Div([\n",
    "    html.H1(\"Team Builder\"),\n",
    "    html.Label('Python'),\n",
    "    dcc.Slider(\n",
    "        id='python-slider',\n",
    "        min=0,\n",
    "        max=8,\n",
    "        step=1,\n",
    "        value=3,\n",
    "    ),\n",
    "    html.Label('AI'),\n",
    "    dcc.Slider(\n",
    "        id='ai-slider',\n",
    "        min=0,\n",
    "        max=8,\n",
    "        step=1,\n",
    "        value=3,\n",
    "    ),\n",
    "    html.Label('Web'),\n",
    "    dcc.Slider(\n",
    "        id='web-slider',\n",
    "        min=0,\n",
    "        max=8,\n",
    "        step=1,\n",
    "        value=2,\n",
    "    ),\n",
    "    html.Label('Database'),\n",
    "    dcc.Slider(\n",
    "        id='db-slider',\n",
    "        min=0,\n",
    "        max=8,\n",
    "        step=1,\n",
    "        value=1,\n",
    "    ),\n",
    "    html.Label('System'),\n",
    "    dcc.Slider(\n",
    "        id='system-slider',\n",
    "        min=0,\n",
    "        max=8,\n",
    "        step=1,\n",
    "        value=3,\n",
    "    ),\n",
    "    html.Label('Team Size'),\n",
    "    dcc.Slider(\n",
    "    id='team-size-slider',\n",
    "    min=1,\n",
    "    max=8,\n",
    "    step=1,\n",
    "    value=6,\n",
    "    ),\n",
    "    html.Button('Solve CSP', id='submit-button', n_clicks=0),\n",
    "    dcc.Graph(id='result-graph')\n",
    "])\n",
    "\n",
    "@app.callback(\n",
    "    Output('result-graph', 'figure'),\n",
    "    [Input('submit-button', 'n_clicks')],\n",
    "    [\n",
    "        dash.dependencies.State('python-slider', 'value'),\n",
    "        dash.dependencies.State('ai-slider', 'value'),\n",
    "        dash.dependencies.State('web-slider', 'value'),\n",
    "        dash.dependencies.State('db-slider', 'value'),\n",
    "        dash.dependencies.State('system-slider', 'value'),\n",
    "        dash.dependencies.State('team-size-slider', 'value')]\n",
    ")\n",
    "def update_graph(n_clicks, python_value, ai_value, web_value, db_value, system_value, team_size_value):\n",
    "    # Create a new TeamBuilder instance with the slider values\n",
    "    role_requirements = {\n",
    "        \"Python\": python_value,\n",
    "        \"AI\": ai_value,\n",
    "        \"Web\": web_value,\n",
    "        \"Database\": db_value,\n",
    "        \"Systems\": system_value\n",
    "    }\n",
    "    \n",
    "    # Predefined color palette for 8 team members\n",
    "    color_palette = ['blue', 'orange', 'green', 'red', 'purple', 'brown', 'pink', 'gray']\n",
    "\n",
    "    team_builder = TeamBuilder(names, abilities, role_requirements, team_size_value)\n",
    "    team_builder.hire_team(role_requirements, set())\n",
    "\n",
    "    # Check if solutions are found\n",
    "    if not team_builder.solutions:\n",
    "        return go.Figure(layout=go.Layout(title_text=\"No solutions found\"))\n",
    "\n",
    "    # Create sub-plots for each solution\n",
    "    fig = sp.make_subplots(rows=len(team_builder.solutions), cols=1, subplot_titles=[f\"Solution {i+1}\" for i in range(len(team_builder.solutions))])\n",
    "\n",
    "    # Iterate through each solution and add a trace for each team member\n",
    "    for solution_idx, solution in enumerate(team_builder.solutions):\n",
    "        # Create a trace for each team member in the solution\n",
    "        for idx, person in enumerate(solution):\n",
    "            color = color_palette[idx % len(color_palette)]  # Use a cyclic color assignment\n",
    "\n",
    "            # Add a marker for each role of the person\n",
    "            for role in abilities[person]:\n",
    "                fig.add_trace(go.Scatter(\n",
    "                    x=[person],\n",
    "                    y=[role],\n",
    "                    mode='markers',\n",
    "                    marker=dict(size=10, color=color),\n",
    "                    text=person,\n",
    "                    legendgroup=f'Solution {solution_idx + 1}',  # Set the 'legendgroup' attribute\n",
    "                    name=person  # Set the 'name' attribute to the individual's name\n",
    "                ), row=solution_idx + 1, col=1)\n",
    "\n",
    "        # Update legend with names of individual team members\n",
    "        legend_items = [dict(label=person, color=color) for idx, person in enumerate(solution)]\n",
    "        fig.update_layout(legend=dict(traceorder='reversed', itemsizing='constant', itemclick='toggleothers'), legend_tracegroupgap=10)\n",
    "        fig.update_traces(showlegend=True, selector=dict(type='scatter'), legendgroup=f'Solution {solution_idx + 1}')\n",
    "\n",
    "    # Update layout\n",
    "    fig.update_layout(height=len(team_builder.solutions) * 200, width=800, showlegend=True, title_text=\"Possible Solutions\")\n",
    "\n",
    "    return fig\n",
    "if __name__ == '__main__':\n",
    "    app.run_server(debug=True)"
   ]
  },
  {
   "cell_type": "markdown",
   "id": "18c7c3da",
   "metadata": {},
   "source": [
    "---"
   ]
  },
  {
   "cell_type": "markdown",
   "id": "da544d96",
   "metadata": {},
   "source": [
    "<h2> GUI </h2>\n",
    "\n",
    "- Create GUI(s) to allow a user to explore alternate constraint scenarios."
   ]
  },
  {
   "cell_type": "code",
   "execution_count": null,
   "id": "05e15211",
   "metadata": {},
   "outputs": [],
   "source": [
    "# import library\n",
    "from tkinter import ttk\n",
    "import tkinter as tk"
   ]
  },
  {
   "cell_type": "code",
   "execution_count": null,
   "id": "646f99bf",
   "metadata": {},
   "outputs": [],
   "source": []
  }
 ],
 "metadata": {
  "kernelspec": {
   "display_name": "Python 3 (ipykernel)",
   "language": "python",
   "name": "python3"
  },
  "language_info": {
   "codemirror_mode": {
    "name": "ipython",
    "version": 3
   },
   "file_extension": ".py",
   "mimetype": "text/x-python",
   "name": "python",
   "nbconvert_exporter": "python",
   "pygments_lexer": "ipython3",
   "version": "3.11.5"
  }
 },
 "nbformat": 4,
 "nbformat_minor": 5
}
